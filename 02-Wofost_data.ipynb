{
 "cells": [
  {
   "cell_type": "code",
   "execution_count": 2,
   "metadata": {},
   "outputs": [
    {
     "name": "stdout",
     "output_type": "stream",
     "text": [
      "The autoreload extension is already loaded. To reload it, use:\n",
      "  %reload_ext autoreload\n"
     ]
    }
   ],
   "source": [
    "import numpy as np\n",
    "import matplotlib.pyplot as plt\n",
    "%matplotlib inline\n",
    "\n",
    "%load_ext autoreload\n",
    "%autoreload 2"
   ]
  },
  {
   "cell_type": "markdown",
   "metadata": {},
   "source": [
    "# Getting meteo inputs for WOFOST over Ghana\n",
    "\n",
    "### J Gómez-Dans (NCEO & UCL)\n",
    "\n",
    "You can use the NCEO ODA dataset to get the necessary data for running WOFOST over ghana using data from the [ERA5 reanalysis](https://www.ecmwf.int/en/era5-land). The following cells describe how to get the data in the old annoying CABO file format, or using a more modern CSV file. The latter is recommended if using PCSE/WOFOST.\n",
    "\n",
    "We will assume we want to consider a site at Wassa West in Ghana (5.250129N, -1.799161W)"
   ]
  },
  {
   "cell_type": "code",
   "execution_count": 5,
   "metadata": {},
   "outputs": [],
   "source": [
    "from data_analysis.write_cabo_file import write_cabo_file, write_pcse_csv"
   ]
  },
  {
   "cell_type": "code",
   "execution_count": 8,
   "metadata": {},
   "outputs": [
    {
     "name": "stdout",
     "output_type": "stream",
     "text": [
      "Help on function write_cabo_file in module data_analysis.write_cabo_file:\n",
      "\n",
      "write_cabo_file(site_name, lon, lat, year, dest_folder='.', c1=-0.18, c2=-0.55)\n",
      "\n",
      "Help on function write_pcse_csv in module data_analysis.write_cabo_file:\n",
      "\n",
      "write_pcse_csv(country, site_name, lon, lat, years, dest_folder='.', c1=-0.18, c2=-0.55)\n",
      "\n"
     ]
    }
   ],
   "source": [
    "help(write_cabo_file)\n",
    "help(write_pcse_csv)"
   ]
  },
  {
   "cell_type": "code",
   "execution_count": 13,
   "metadata": {},
   "outputs": [],
   "source": [
    "lat, lon = 5.250129, -1.799161\n",
    "write_cabo_file(\"WassaWest\", lon, lat, 2010)"
   ]
  },
  {
   "cell_type": "code",
   "execution_count": 16,
   "metadata": {},
   "outputs": [
    {
     "name": "stdout",
     "output_type": "stream",
     "text": [
      "*---------------------------------------------------\n",
      "* Station: WassaWest\n",
      "* Year: 2010\n",
      "* Origin: ERA5-Reanalysis\n",
      "* Columns & units\n",
      "* ===================\n",
      "* 1. station number\n",
      "* 2. year\n",
      "* 3. Day of Year\n",
      "* 4. Irradiance   (kJ·m-2·d-1)\n",
      "* 5. Daily minimum temperature (degC)\n",
      "* 6. Daily maximum temperature (degC)\n",
      "* 7. Vapour pressure (kPa)\n",
      "* 8. Mean wind speed (m·s-1)\n",
      "* 9. Precipitation (mm·d-1)\n",
      "** WCCDESCRIPTION=WassaWest\n",
      "** WCCFORMAT=2\n",
      "** WCCYEARNR=2010\n",
      "*------------------------------------------------------------*\n",
      "-1.80  5.25  114.00 -0.18  -0.55\n",
      "1\t2010\t1\t15337.0\t 23.0\t 32.0\t3.000\t 1.0\t 1.0\n",
      "1\t2010\t2\t16615.0\t 22.0\t 30.0\t3.000\t 1.0\t 1.0\n",
      "1\t2010\t3\t17040.0\t 23.0\t 30.0\t3.000\t 1.0\t 1.0\n",
      "1\t2010\t4\t17818.0\t 23.0\t 31.0\t3.000\t 2.0\t 1.0\n",
      "1\t2010\t5\t15011.0\t 24.0\t 30.0\t3.000\t 2.0\t 1.0\n"
     ]
    }
   ],
   "source": [
    "!head -n 25 WassaWest_2010.txt"
   ]
  },
  {
   "cell_type": "code",
   "execution_count": 18,
   "metadata": {},
   "outputs": [
    {
     "data": {
      "application/vnd.jupyter.widget-view+json": {
       "model_id": "c5236e4087db41338acea2490498c3de",
       "version_major": 2,
       "version_minor": 0
      },
      "text/plain": [
       "HBox(children=(FloatProgress(value=0.0, max=2.0), HTML(value='')))"
      ]
     },
     "metadata": {},
     "output_type": "display_data"
    },
    {
     "name": "stdout",
     "output_type": "stream",
     "text": [
      "\n"
     ]
    },
    {
     "data": {
      "application/vnd.jupyter.widget-view+json": {
       "model_id": "5cd2fe11e42e4c62aeca589bb549342a",
       "version_major": 2,
       "version_minor": 0
      },
      "text/plain": [
       "HBox(children=(FloatProgress(value=0.0, max=2.0), HTML(value='')))"
      ]
     },
     "metadata": {},
     "output_type": "display_data"
    },
    {
     "name": "stdout",
     "output_type": "stream",
     "text": [
      "\n"
     ]
    },
    {
     "data": {
      "application/vnd.jupyter.widget-view+json": {
       "model_id": "e1561fae17964d9b8637807846298c54",
       "version_major": 2,
       "version_minor": 0
      },
      "text/plain": [
       "HBox(children=(FloatProgress(value=0.0, max=2.0), HTML(value='')))"
      ]
     },
     "metadata": {},
     "output_type": "display_data"
    },
    {
     "name": "stdout",
     "output_type": "stream",
     "text": [
      "\n"
     ]
    },
    {
     "data": {
      "application/vnd.jupyter.widget-view+json": {
       "model_id": "196555ffaee04e7d97d54e133e24ee5c",
       "version_major": 2,
       "version_minor": 0
      },
      "text/plain": [
       "HBox(children=(FloatProgress(value=0.0, max=2.0), HTML(value='')))"
      ]
     },
     "metadata": {},
     "output_type": "display_data"
    },
    {
     "name": "stdout",
     "output_type": "stream",
     "text": [
      "\n"
     ]
    },
    {
     "data": {
      "application/vnd.jupyter.widget-view+json": {
       "model_id": "6c9ddaa93d704922b898391c94e29ca1",
       "version_major": 2,
       "version_minor": 0
      },
      "text/plain": [
       "HBox(children=(FloatProgress(value=0.0, max=2.0), HTML(value='')))"
      ]
     },
     "metadata": {},
     "output_type": "display_data"
    },
    {
     "name": "stdout",
     "output_type": "stream",
     "text": [
      "\n"
     ]
    },
    {
     "data": {
      "application/vnd.jupyter.widget-view+json": {
       "model_id": "c81af6c485d9466b89e2f1fadc99ce60",
       "version_major": 2,
       "version_minor": 0
      },
      "text/plain": [
       "HBox(children=(FloatProgress(value=0.0, max=2.0), HTML(value='')))"
      ]
     },
     "metadata": {},
     "output_type": "display_data"
    },
    {
     "name": "stdout",
     "output_type": "stream",
     "text": [
      "\n"
     ]
    },
    {
     "data": {
      "application/vnd.jupyter.widget-view+json": {
       "model_id": "c21d5c2ecbdc42aab3f3451d536a39a5",
       "version_major": 2,
       "version_minor": 0
      },
      "text/plain": [
       "HBox(children=(FloatProgress(value=0.0, max=2.0), HTML(value='')))"
      ]
     },
     "metadata": {},
     "output_type": "display_data"
    },
    {
     "name": "stdout",
     "output_type": "stream",
     "text": [
      "\n",
      "Saved to Ghana_WassaWest_2010_2011.csv\n"
     ]
    }
   ],
   "source": [
    "write_pcse_csv(\"Ghana\", \"WassaWest\", lon, lat, [2010, 2011])"
   ]
  },
  {
   "cell_type": "code",
   "execution_count": 19,
   "metadata": {},
   "outputs": [
    {
     "name": "stdout",
     "output_type": "stream",
     "text": [
      "Country     = 'Ghana'\n",
      "Station     = 'WassaWest'\n",
      "Description = 'Reanalysis data'\n",
      "Source      = 'ERA5'\n",
      "Contact     = 'J Gomez-Dans'\n",
      "Longitude = -1.799161; Latitude = 5.250129; Elevation = 114; AngstromA = -0.18; AngstromB = -0.55; HasSunshine = False\n",
      "## Daily weather observations (missing values are NaN)\n",
      "DAY,IRRAD,TMIN,TMAX,VAP,WIND,RAIN,SNOWDEPTH\n",
      "2010-01-01,15336.639,22.80481,31.611847,3.0782871,1.1543342,0.85134196,nan\n",
      "2010-01-02,16615.13,21.538055,30.298859,2.908136,1.0662295,0.51759183,nan\n",
      "2010-01-03,17040.014,22.505646,30.48056,2.9545622,1.176881,1.3345983,nan\n",
      "2010-01-04,17818.5,23.10791,30.95282,3.0754962,1.7038037,0.8707042,nan\n",
      "2010-01-05,15011.413,23.806091,30.152802,3.0677333,1.6251502,0.5539218,nan\n",
      "2010-01-06,13851.881,23.029205,29.808228,2.994181,1.8454286,1.4908924,nan\n",
      "2010-01-07,15216.8,23.884796,30.952423,3.057769,1.911142,2.9648185,nan\n",
      "2010-01-08,16265.002,23.418427,31.293884,3.150739,1.4615672,2.2635856,nan\n",
      "2010-01-09,16612.535,24.060608,30.904266,3.0890415,1.4406657,1.8268377,nan\n",
      "2010-01-10,16283.575,23.459534,30.884277,3.0464418,1.2599452,3.4225237,nan\n",
      "2010-01-11,14208.857,22.523285,30.807129,2.9648085,1.2579178,0.41140196,nan\n",
      "2010-01-12,16529.426,23.752441,31.719116,3.0210776,2.026915,1.0775002,nan\n",
      "2010-01-13,18438.809,23.842102,31.844421,2.9246001,2.2894135,0.5050176,nan\n",
      "2010-01-14,18724.814,23.956451,31.558197,2.9803343,2.322603,0.50262225,nan\n",
      "2010-01-15,16407.822,23.022919,31.594208,2.9885447,1.9193311,2.0048892,nan\n",
      "2010-01-16,15668.766,23.169373,31.408203,3.0030797,1.1892928,2.257796,nan\n",
      "2010-01-17,17256.502,22.43988,31.454407,2.9452982,1.3655053,0.74893934,nan\n"
     ]
    }
   ],
   "source": [
    "!head -n 25 Ghana_WassaWest_2010_2011.csv"
   ]
  },
  {
   "cell_type": "code",
   "execution_count": null,
   "metadata": {},
   "outputs": [],
   "source": []
  }
 ],
 "metadata": {
  "kernelspec": {
   "display_name": "Python 3",
   "language": "python",
   "name": "python3"
  },
  "language_info": {
   "codemirror_mode": {
    "name": "ipython",
    "version": 3
   },
   "file_extension": ".py",
   "mimetype": "text/x-python",
   "name": "python",
   "nbconvert_exporter": "python",
   "pygments_lexer": "ipython3",
   "version": "3.7.6"
  }
 },
 "nbformat": 4,
 "nbformat_minor": 4
}
